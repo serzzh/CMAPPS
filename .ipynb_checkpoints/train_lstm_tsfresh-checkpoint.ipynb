{
 "cells": [
  {
   "cell_type": "code",
   "execution_count": 1,
   "metadata": {},
   "outputs": [],
   "source": [
    "from model import *\n",
    "from config import *\n",
    "from data_processing import *\n",
    "today = datetime.date.today()"
   ]
  },
  {
   "cell_type": "code",
   "execution_count": 2,
   "metadata": {},
   "outputs": [],
   "source": [
    "config = TsConf()\n",
    "df = TsDataFrame(pd.read_csv(config.cmapss_url))\n",
    "df.columns = config.columns_old\n",
    "df = df[config.columns_new]"
   ]
  },
  {
   "cell_type": "code",
   "execution_count": 3,
   "metadata": {},
   "outputs": [],
   "source": [
    "df = df.cluster(config)"
   ]
  },
  {
   "cell_type": "code",
   "execution_count": 4,
   "metadata": {},
   "outputs": [],
   "source": [
    "cols = config.groupids + [config.timestamp] + config.opset + config.select_feat + [\"RUL\", \"CLUSTER\"]"
   ]
  },
  {
   "cell_type": "code",
   "execution_count": 5,
   "metadata": {},
   "outputs": [],
   "source": [
    "df.loc[df.FILEID==102, cols].to_csv(\"NASA_102_unnormalized.csv\", index=False)"
   ]
  },
  {
   "cell_type": "code",
   "execution_count": 6,
   "metadata": {},
   "outputs": [],
   "source": [
    "df = df.data_norm(config)"
   ]
  },
  {
   "cell_type": "code",
   "execution_count": 7,
   "metadata": {},
   "outputs": [],
   "source": [
    "config.ewm = 20\n",
    "df = df.ewma(config)"
   ]
  },
  {
   "cell_type": "code",
   "execution_count": 8,
   "metadata": {},
   "outputs": [],
   "source": [
    "df.loc[df.FILEID==102, cols].to_csv(\"NASA_102_normalized.csv\", index=False)"
   ]
  },
  {
   "cell_type": "code",
   "execution_count": 9,
   "metadata": {},
   "outputs": [],
   "source": [
    "train = df[([\"FILEID\",\"ENGINEID\", \"TIMECYCLE\"]+config.select_feat+[\"RUL\"])][df.FILEID.isin(config.train_fids)]\n",
    "test = df[([\"FILEID\",\"ENGINEID\", \"TIMECYCLE\"]+config.select_feat+[\"RUL\"])][df.FILEID.isin(config.test_fids)]"
   ]
  },
  {
   "cell_type": "code",
   "execution_count": 10,
   "metadata": {},
   "outputs": [
    {
     "data": {
      "text/html": [
       "<div>\n",
       "<style scoped>\n",
       "    .dataframe tbody tr th:only-of-type {\n",
       "        vertical-align: middle;\n",
       "    }\n",
       "\n",
       "    .dataframe tbody tr th {\n",
       "        vertical-align: top;\n",
       "    }\n",
       "\n",
       "    .dataframe thead th {\n",
       "        text-align: right;\n",
       "    }\n",
       "</style>\n",
       "<table border=\"1\" class=\"dataframe\">\n",
       "  <thead>\n",
       "    <tr style=\"text-align: right;\">\n",
       "      <th></th>\n",
       "      <th>FILEID</th>\n",
       "      <th>ENGINEID</th>\n",
       "      <th>TIMECYCLE</th>\n",
       "      <th>Total temp at LPC out (T24)</th>\n",
       "      <th>Total temp at HPC out (T30)</th>\n",
       "      <th>Total temp at LPT out (T50)</th>\n",
       "      <th>Physical core speed (Nc)</th>\n",
       "      <th>Static pres at HPC out (Ps30)</th>\n",
       "      <th>Corrected core speed (NRc)</th>\n",
       "      <th>Bypass Ratio (BPR)</th>\n",
       "      <th>Bleed Enthalpy (htBleed)</th>\n",
       "      <th>RUL</th>\n",
       "    </tr>\n",
       "  </thead>\n",
       "  <tbody>\n",
       "    <tr>\n",
       "      <th>87480</th>\n",
       "      <td>102</td>\n",
       "      <td>260</td>\n",
       "      <td>312</td>\n",
       "      <td>1.181564</td>\n",
       "      <td>1.400266</td>\n",
       "      <td>1.404234</td>\n",
       "      <td>4.871879</td>\n",
       "      <td>1.204583</td>\n",
       "      <td>4.903128</td>\n",
       "      <td>1.136318</td>\n",
       "      <td>1.453609</td>\n",
       "      <td>4</td>\n",
       "    </tr>\n",
       "    <tr>\n",
       "      <th>87481</th>\n",
       "      <td>102</td>\n",
       "      <td>260</td>\n",
       "      <td>313</td>\n",
       "      <td>1.215280</td>\n",
       "      <td>1.434809</td>\n",
       "      <td>1.409812</td>\n",
       "      <td>4.980184</td>\n",
       "      <td>1.258923</td>\n",
       "      <td>4.997293</td>\n",
       "      <td>1.199401</td>\n",
       "      <td>1.521893</td>\n",
       "      <td>3</td>\n",
       "    </tr>\n",
       "    <tr>\n",
       "      <th>87482</th>\n",
       "      <td>102</td>\n",
       "      <td>260</td>\n",
       "      <td>314</td>\n",
       "      <td>1.239175</td>\n",
       "      <td>1.488724</td>\n",
       "      <td>1.395823</td>\n",
       "      <td>5.076812</td>\n",
       "      <td>1.276316</td>\n",
       "      <td>5.098160</td>\n",
       "      <td>1.309503</td>\n",
       "      <td>1.547101</td>\n",
       "      <td>2</td>\n",
       "    </tr>\n",
       "    <tr>\n",
       "      <th>87483</th>\n",
       "      <td>102</td>\n",
       "      <td>260</td>\n",
       "      <td>315</td>\n",
       "      <td>1.309800</td>\n",
       "      <td>1.510402</td>\n",
       "      <td>1.441107</td>\n",
       "      <td>5.163097</td>\n",
       "      <td>1.333994</td>\n",
       "      <td>5.198679</td>\n",
       "      <td>1.401138</td>\n",
       "      <td>1.607943</td>\n",
       "      <td>1</td>\n",
       "    </tr>\n",
       "    <tr>\n",
       "      <th>87484</th>\n",
       "      <td>102</td>\n",
       "      <td>260</td>\n",
       "      <td>316</td>\n",
       "      <td>1.338534</td>\n",
       "      <td>1.505439</td>\n",
       "      <td>1.462482</td>\n",
       "      <td>5.260137</td>\n",
       "      <td>1.377636</td>\n",
       "      <td>5.300208</td>\n",
       "      <td>1.418648</td>\n",
       "      <td>1.659060</td>\n",
       "      <td>0</td>\n",
       "    </tr>\n",
       "  </tbody>\n",
       "</table>\n",
       "</div>"
      ],
      "text/plain": [
       "       FILEID  ENGINEID  TIMECYCLE  Total temp at LPC out (T24)  \\\n",
       "87480     102       260        312                     1.181564   \n",
       "87481     102       260        313                     1.215280   \n",
       "87482     102       260        314                     1.239175   \n",
       "87483     102       260        315                     1.309800   \n",
       "87484     102       260        316                     1.338534   \n",
       "\n",
       "       Total temp at HPC out (T30)  Total temp at LPT out (T50)  \\\n",
       "87480                     1.400266                     1.404234   \n",
       "87481                     1.434809                     1.409812   \n",
       "87482                     1.488724                     1.395823   \n",
       "87483                     1.510402                     1.441107   \n",
       "87484                     1.505439                     1.462482   \n",
       "\n",
       "       Physical core speed (Nc)  Static pres at HPC out (Ps30)  \\\n",
       "87480                  4.871879                       1.204583   \n",
       "87481                  4.980184                       1.258923   \n",
       "87482                  5.076812                       1.276316   \n",
       "87483                  5.163097                       1.333994   \n",
       "87484                  5.260137                       1.377636   \n",
       "\n",
       "       Corrected core speed (NRc)  Bypass Ratio (BPR)  \\\n",
       "87480                    4.903128            1.136318   \n",
       "87481                    4.997293            1.199401   \n",
       "87482                    5.098160            1.309503   \n",
       "87483                    5.198679            1.401138   \n",
       "87484                    5.300208            1.418648   \n",
       "\n",
       "       Bleed Enthalpy (htBleed)  RUL  \n",
       "87480                  1.453609    4  \n",
       "87481                  1.521893    3  \n",
       "87482                  1.547101    2  \n",
       "87483                  1.607943    1  \n",
       "87484                  1.659060    0  "
      ]
     },
     "execution_count": 10,
     "metadata": {},
     "output_type": "execute_result"
    }
   ],
   "source": [
    "train.tail()"
   ]
  },
  {
   "cell_type": "markdown",
   "metadata": {},
   "source": [
    "# Model training"
   ]
  },
  {
   "cell_type": "markdown",
   "metadata": {},
   "source": [
    "## LSTM (Sibur)"
   ]
  },
  {
   "cell_type": "code",
   "execution_count": 11,
   "metadata": {
    "scrolled": true
   },
   "outputs": [],
   "source": [
    "n_eng_train = max(train.ENGINEID)\n",
    "n_eng_test = max(test.ENGINEID)"
   ]
  },
  {
   "cell_type": "code",
   "execution_count": 12,
   "metadata": {},
   "outputs": [],
   "source": [
    "train.target = config.target\n",
    "train.groupids = config.groupids\n",
    "train.timestamp = config.timestamp\n",
    "test.target = config.target\n",
    "test.groupids = config.groupids\n",
    "test.timestamp = config.timestamp"
   ]
  },
  {
   "cell_type": "code",
   "execution_count": 13,
   "metadata": {},
   "outputs": [],
   "source": [
    "Train = False\n",
    "Predict = not Train"
   ]
  },
  {
   "cell_type": "code",
   "execution_count": 14,
   "metadata": {},
   "outputs": [],
   "source": [
    "config.sequence_length = 1\n",
    "config.batch_size = 1\n",
    "config.shift = 1\n",
    "config.restore_model = True\n",
    "config.save_model = True\n",
    "config.random = False\n",
    "config.stateful = True\n",
    "config.train_fids = [102]\n",
    "config.test_fids = [202]"
   ]
  },
  {
   "cell_type": "code",
   "execution_count": 15,
   "metadata": {},
   "outputs": [
    {
     "name": "stdout",
     "output_type": "stream",
     "text": [
      "\n",
      "Configurations:\n",
      "alpha                          0\n",
      "ann_hidden                     16\n",
      "batch_size                     1\n",
      "cmapss_n_clusters              6\n",
      "cmapss_url                     input/dataset.csv\n",
      "columns_new                    ['FILEID', 'ENGINEID', 'TIMECYCLE', 'Alt', 'Mach', 'TRA', 'Total temp at fan in (T2)', 'Total temp at LPC out (T24)', 'Total temp at HPC out (T30)', 'Total temp at LPT out (T50)', 'Pres at fan in (P2)', 'Total pres in bypass-duct (P15)', 'Total pres at HPC out (P30)', 'Physical fan speed (Nf)', 'Physical core speed (Nc)', 'Engine pres ratio (epr=P50/P2)', 'Static pres at HPC out (Ps30)', 'Ratio of fuel flow to Ps30 (phi)', 'Corrected fan speed (NRf)', 'Corrected core speed (NRc)', 'Bypass Ratio (BPR)', 'Burner fuel-air ratio (farB)', 'Bleed Enthalpy (htBleed)', 'Demanded fan speed (Nf_dmd)', 'Demanded corrected fan speed (PCNfR_dmd)', 'HPT coolant bleed (W31)', 'LPT coolant bleed (W32)', 'RUL']\n",
      "columns_old                    ['ENGINEID', 'TIMECYCLE', 'Alt', 'Mach', 'TRA', 'Total temp at fan in (T2)', 'Total temp at LPC out (T24)', 'Total temp at HPC out (T30)', 'Total temp at LPT out (T50)', 'Pres at fan in (P2)', 'Total pres in bypass-duct (P15)', 'Total pres at HPC out (P30)', 'Physical fan speed (Nf)', 'Physical core speed (Nc)', 'Engine pres ratio (epr=P50/P2)', 'Static pres at HPC out (Ps30)', 'Ratio of fuel flow to Ps30 (phi)', 'Corrected fan speed (NRf)', 'Corrected core speed (NRc)', 'Bypass Ratio (BPR)', 'Burner fuel-air ratio (farB)', 'Bleed Enthalpy (htBleed)', 'Demanded fan speed (Nf_dmd)', 'Demanded corrected fan speed (PCNfR_dmd)', 'HPT coolant bleed (W31)', 'LPT coolant bleed (W32)', 'FILEID', 'RUL']\n",
      "epochs                         1000\n",
      "ewm                            20\n",
      "features                       ['Total temp at fan in (T2)', 'Total temp at LPC out (T24)', 'Total temp at HPC out (T30)', 'Total temp at LPT out (T50)', 'Pres at fan in (P2)', 'Total pres in bypass-duct (P15)', 'Total pres at HPC out (P30)', 'Physical fan speed (Nf)', 'Physical core speed (Nc)', 'Engine pres ratio (epr=P50/P2)', 'Static pres at HPC out (Ps30)', 'Ratio of fuel flow to Ps30 (phi)', 'Corrected fan speed (NRf)', 'Corrected core speed (NRc)', 'Bypass Ratio (BPR)', 'Burner fuel-air ratio (farB)', 'Bleed Enthalpy (htBleed)', 'Demanded fan speed (Nf_dmd)', 'Demanded corrected fan speed (PCNfR_dmd)', 'HPT coolant bleed (W31)', 'LPT coolant bleed (W32)']\n",
      "groupids                       ['FILEID', 'ENGINEID']\n",
      "learning_rate                  0.0002\n",
      "lstm_size                      48\n",
      "n_channels                     8\n",
      "norm_groupids                  ['FILEID', 'CLUSTER']\n",
      "num_layers                     2\n",
      "opset                          ['Alt', 'Mach', 'TRA']\n",
      "path_checkpoint                ./save/new_lstm/cha_8_len_1_bat_1/ds102_lstm_2_layers_stateful_True\n",
      "plot                           False\n",
      "random                         False\n",
      "restore_model                  True\n",
      "save_model                     True\n",
      "select_feat                    ['Total temp at LPC out (T24)', 'Total temp at HPC out (T30)', 'Total temp at LPT out (T50)', 'Physical core speed (Nc)', 'Static pres at HPC out (Ps30)', 'Corrected core speed (NRc)', 'Bypass Ratio (BPR)', 'Bleed Enthalpy (htBleed)']\n",
      "sequence_length                1\n",
      "shift                          1\n",
      "stateful                       True\n",
      "target                         RUL\n",
      "test_fids                      [202]\n",
      "timestamp                      TIMECYCLE\n",
      "train_fids                     [102]\n",
      "trim_left                      True\n",
      "\n",
      "\n"
     ]
    }
   ],
   "source": [
    "config.display()"
   ]
  },
  {
   "cell_type": "code",
   "execution_count": 16,
   "metadata": {},
   "outputs": [
    {
     "name": "stdout",
     "output_type": "stream",
     "text": [
      "Building LSTM...\n",
      "My Conv Shape: [None, 1, 8]\n"
     ]
    }
   ],
   "source": [
    "m = TsLSTM(config)"
   ]
  },
  {
   "cell_type": "code",
   "execution_count": 17,
   "metadata": {},
   "outputs": [],
   "source": [
    "if Train:\n",
    "    m.train(train, test, config)"
   ]
  },
  {
   "cell_type": "code",
   "execution_count": 18,
   "metadata": {},
   "outputs": [
    {
     "name": "stdout",
     "output_type": "stream",
     "text": [
      "INFO:tensorflow:Restoring parameters from ./save/new_lstm/cha_8_len_1_bat_1/ds102_lstm_2_layers_stateful_True\n",
      "Model restored from file: ./save/new_lstm/cha_8_len_1_bat_1/ds102_lstm_2_layers_stateful_True\n",
      "Prediction for submit...\n",
      "#of validation points: 53759 #datapoints covers from minibatch: 1\n",
      "name: (102, 260), n: 316, start: 0, finish: 316, Samples length: 53759 , Targets length 53759: \n"
     ]
    }
   ],
   "source": [
    "if Predict:\n",
    "    dtrain = train #.loc[train.ENGINEID<9]\n",
    "    y_target = dtrain[\"RUL\"]\n",
    "    y_pred = m.predict(dtrain, config)\n",
    "    z=pd.DataFrame(dict(target=y_target, pred=y_pred)).reset_index()\n",
    "    #plt.plot(z[[\"target\", \"pred\"]])"
   ]
  },
  {
   "cell_type": "code",
   "execution_count": 19,
   "metadata": {},
   "outputs": [
    {
     "data": {
      "text/plain": [
       "53759"
      ]
     },
     "execution_count": 19,
     "metadata": {},
     "output_type": "execute_result"
    }
   ],
   "source": [
    "len(df[df.FILEID==102])"
   ]
  },
  {
   "cell_type": "code",
   "execution_count": 20,
   "metadata": {},
   "outputs": [
    {
     "data": {
      "text/plain": [
       "53759"
      ]
     },
     "execution_count": 20,
     "metadata": {},
     "output_type": "execute_result"
    }
   ],
   "source": [
    "len(z)"
   ]
  },
  {
   "cell_type": "code",
   "execution_count": 21,
   "metadata": {},
   "outputs": [],
   "source": [
    "z[[\"pred\",\"target\"]].to_csv(\"NASA_102_predictions.csv\", index=False)"
   ]
  },
  {
   "cell_type": "code",
   "execution_count": 22,
   "metadata": {},
   "outputs": [],
   "source": [
    "#pd.DataFrame(out)"
   ]
  },
  {
   "cell_type": "code",
   "execution_count": null,
   "metadata": {},
   "outputs": [],
   "source": []
  },
  {
   "cell_type": "code",
   "execution_count": 23,
   "metadata": {},
   "outputs": [],
   "source": [
    "#y_submit = full_prediction*std_y+mean_y\n",
    "#sub_file = pd.DataFrame()\n",
    "#sub_file[\"timestamp\"] = submit_X.index[-2872:]\n",
    "#sub_file[\"target\"] = y_submit[-2872:]\n",
    "#sub_file.to_csv('submit2.csv', index=False)"
   ]
  },
  {
   "cell_type": "markdown",
   "metadata": {},
   "source": [
    "## Gradient Boosting Regression"
   ]
  },
  {
   "cell_type": "markdown",
   "metadata": {},
   "source": [
    "### TS fresh dataset"
   ]
  },
  {
   "cell_type": "code",
   "execution_count": 24,
   "metadata": {},
   "outputs": [],
   "source": [
    "#add_lag_roll(test.iloc[:,:-2], feat_names, lag=lag, step=step, roll=0).head()"
   ]
  },
  {
   "cell_type": "code",
   "execution_count": 25,
   "metadata": {},
   "outputs": [],
   "source": [
    "#df.groupby([\"FILEID\", \"ENGINEID\"])"
   ]
  },
  {
   "cell_type": "code",
   "execution_count": 26,
   "metadata": {},
   "outputs": [],
   "source": [
    "#X=pd.DataFrame()\n",
    "#y=list()"
   ]
  },
  {
   "cell_type": "code",
   "execution_count": 27,
   "metadata": {},
   "outputs": [],
   "source": [
    "#for name, group in df.groupby([\"FILEID\", \"ENGINEID\"]):\n",
    "    #X = pd.concat([X, add_lag_roll(group[feat_names], feat_names, lag=lag, step=step)], axis=0)\n",
    "    #y = y.append(group[\"RUL\"][lag:])\n",
    "    \n",
    "    "
   ]
  },
  {
   "cell_type": "code",
   "execution_count": 28,
   "metadata": {},
   "outputs": [],
   "source": [
    "#X.tail(1).values"
   ]
  },
  {
   "cell_type": "code",
   "execution_count": null,
   "metadata": {},
   "outputs": [],
   "source": []
  },
  {
   "cell_type": "code",
   "execution_count": null,
   "metadata": {},
   "outputs": [],
   "source": []
  },
  {
   "cell_type": "code",
   "execution_count": null,
   "metadata": {},
   "outputs": [],
   "source": []
  }
 ],
 "metadata": {
  "kernelspec": {
   "display_name": "Python 3",
   "language": "python",
   "name": "python3"
  },
  "language_info": {
   "codemirror_mode": {
    "name": "ipython",
    "version": 3
   },
   "file_extension": ".py",
   "mimetype": "text/x-python",
   "name": "python",
   "nbconvert_exporter": "python",
   "pygments_lexer": "ipython3",
   "version": "3.5.2"
  }
 },
 "nbformat": 4,
 "nbformat_minor": 2
}
